{
 "cells": [
  {
   "cell_type": "markdown",
   "id": "84d9b040",
   "metadata": {},
   "source": [
    "# PSFam docs"
   ]
  },
  {
   "cell_type": "markdown",
   "id": "6d2c98a3",
   "metadata": {},
   "source": [
    "This doc will give instructions on how to use the PSFam file. The point of this code is to create an object which organizes Pauli Strings into commuting families, and computes the measurement basis at the same time so that it can be done quickly and without thinking about it. We will go through the process of making measurements of one family by the end of this doc. \n",
    "\n",
    "Hopefully I can get to an actual VQE example calculation, but that will take more study and overhead. I currently don't know how to do that, so it will come soon. This will only show how to use the built-in functions.\n",
    "\n",
    "First things first, you'll need numpy and qiskit, so lets import those:"
   ]
  },
  {
   "cell_type": "code",
   "execution_count": 139,
   "id": "d082ef60",
   "metadata": {},
   "outputs": [],
   "source": [
    "from Psfam import *\n",
    "import numpy as np\n",
    "from qiskit import *"
   ]
  },
  {
   "cell_type": "markdown",
   "id": "9434383f",
   "metadata": {},
   "source": [
    "Now pick the number of qubits, and assign this to $m$. Our basic object is Pauli_organizer, and it takes only the number of qubits as an argument. Once the object is initialized, it already has the families sorted. We can look at the properties of the object using properties(). This will tell us what $A$ matrix was used to generate all of the families. "
   ]
  },
  {
   "cell_type": "code",
   "execution_count": 140,
   "id": "2a11b7c5",
   "metadata": {
    "scrolled": true
   },
   "outputs": [
    {
     "name": "stdout",
     "output_type": "stream",
     "text": [
      "Qubits: 3\n",
      "Generating vector: 1\n",
      "Generating Matrix:\n",
      "[0, 1, 0]\n",
      "[1, 0, 1]\n",
      "[0, 1, 1]\n"
     ]
    }
   ],
   "source": [
    "m=3\n",
    "PO = Pauli_organizer(m)\n",
    "\n",
    "print(PO.properties())"
   ]
  },
  {
   "cell_type": "markdown",
   "id": "08f40175",
   "metadata": {},
   "source": [
    "We can get all of the families with the get_families() function. This will return a list of family objects. There should be a list of $2^m + 1$ objects. The final 2 objects will be the x and z families. \n",
    "\n",
    "For normal families, there will be a permutation which generates the family, and the generating matrix $A^i$ can be printed from that permutation. The following methods can be used to get the individual properties. The to_string() function gives you the list of strings in the family.\n",
    "\n",
    "The coefficients of the family will tell you how to calculate the measurement at the end. These would be the coefficients of the contribution of this family to the expectation value of the Hamiltonian:\n",
    "\n",
    "$$\n",
    "\\langle H \\rangle = \\sum_i \\alpha_i |\\langle \\psi | U | \\chi_i \\rangle |^2 + ...\n",
    "$$\n",
    "\n",
    "Since we have not entered the decomposition of the Hamiltonian, these can't be calculated yet"
   ]
  },
  {
   "cell_type": "code",
   "execution_count": 141,
   "id": "103fff99",
   "metadata": {},
   "outputs": [
    {
     "name": "stdout",
     "output_type": "stream",
     "text": [
      "['IIZ', 'IZI', 'IZZ', 'ZII', 'ZIZ', 'ZZI', 'ZZZ']\n",
      "False\n",
      "False\n",
      "unassigned\n"
     ]
    }
   ],
   "source": [
    "fam = PO.get_families()[2**m]\n",
    "\n",
    "print(fam.to_string())\n",
    "print(fam.get_permutation())\n",
    "print(fam.get_generating_matrix())\n",
    "print(fam.get_coefficients())"
   ]
  },
  {
   "cell_type": "markdown",
   "id": "9db3aab6",
   "metadata": {},
   "source": [
    "This information can also be accessed using properties()"
   ]
  },
  {
   "cell_type": "code",
   "execution_count": 142,
   "id": "0e067c6d",
   "metadata": {},
   "outputs": [
    {
     "name": "stdout",
     "output_type": "stream",
     "text": [
      "z family\n",
      "Qubits: 3\n",
      "Coefficients: unassigned\n"
     ]
    }
   ],
   "source": [
    "print(fam.properties())"
   ]
  },
  {
   "cell_type": "markdown",
   "id": "541b083e",
   "metadata": {},
   "source": [
    "This part can be skipped if you wish to calculate your coefficients differently. Suppose we have decomposed our Hamiltonian into pauli strings. This function I wrote to simulate this. It generates a dictionary with the decomposition of the hamiltonian into each Pauli string. $H = \\sum \\beta_i P_i$, and the dictionary is $\\{ P_i : \\beta_i \\}$"
   ]
  },
  {
   "cell_type": "code",
   "execution_count": 143,
   "id": "a4cfee6a",
   "metadata": {},
   "outputs": [
    {
     "data": {
      "text/plain": [
       "{'III': 0.3286148019009817,\n",
       " 'IIZ': 0.9917591071666828,\n",
       " 'IIX': 0.3258549644087967,\n",
       " 'IIY': 0.4935045792350383,\n",
       " 'IZI': 0.5724013088716127,\n",
       " 'IZZ': 0.990548735501393,\n",
       " 'IZX': 0.14366289274028898,\n",
       " 'IZY': 0.21900810771499757,\n",
       " 'IXI': 0.32063540122698597,\n",
       " 'IXZ': 0.5672544285434643,\n",
       " 'IXX': 0.3970483387647711,\n",
       " 'IXY': 0.7602321843438941,\n",
       " 'IYI': 0.1910196609284387,\n",
       " 'IYZ': 0.3361863994198063,\n",
       " 'IYX': 0.4532109600382208,\n",
       " 'IYY': 0.4178757348954675,\n",
       " 'ZII': 0.1423439279647003,\n",
       " 'ZIZ': 0.7638359227859612,\n",
       " 'ZIX': 0.47649145072889254,\n",
       " 'ZIY': 0.7033166168298755,\n",
       " 'ZZI': 0.585660669645874,\n",
       " 'ZZZ': 0.9237179674877578,\n",
       " 'ZZX': 0.9350659449084032,\n",
       " 'ZZY': 0.7212643963420107,\n",
       " 'ZXI': 0.3990291753391424,\n",
       " 'ZXZ': 0.4171316684913584,\n",
       " 'ZXX': 0.3340275136062557,\n",
       " 'ZXY': 0.8396609348049963,\n",
       " 'ZYI': 0.7007693974264649,\n",
       " 'ZYZ': 0.1534109339962686,\n",
       " 'ZYX': 0.8038669603874954,\n",
       " 'ZYY': 0.14472372119578647,\n",
       " 'XII': 0.3400675904532682,\n",
       " 'XIZ': 0.3243419339543382,\n",
       " 'XIX': 0.8244374516393774,\n",
       " 'XIY': 0.009677809641794544,\n",
       " 'XZI': 0.8800974141128896,\n",
       " 'XZZ': 0.6248809186761641,\n",
       " 'XZX': 0.5380003140561087,\n",
       " 'XZY': 0.935785926549263,\n",
       " 'XXI': 0.02069894168984443,\n",
       " 'XXZ': 0.4613864061106928,\n",
       " 'XXX': 0.24510976115408756,\n",
       " 'XXY': 0.8432477018317378,\n",
       " 'XYI': 0.05520437309523185,\n",
       " 'XYZ': 0.10219885241074189,\n",
       " 'XYX': 0.9255049036252438,\n",
       " 'XYY': 0.954906541055778,\n",
       " 'YII': 0.21193333341633402,\n",
       " 'YIZ': 0.3949161099538586,\n",
       " 'YIX': 0.03197574171143469,\n",
       " 'YIY': 0.39191550231349526,\n",
       " 'YZI': 0.7878417370231545,\n",
       " 'YZZ': 0.6190098887787477,\n",
       " 'YZX': 0.5809042614530004,\n",
       " 'YZY': 0.9232187937701661,\n",
       " 'YXI': 0.9090494034666867,\n",
       " 'YXZ': 0.6467077774448601,\n",
       " 'YXX': 0.6560169922033365,\n",
       " 'YXY': 0.008062782595973816,\n",
       " 'YYI': 0.4819197982442104,\n",
       " 'YYZ': 0.21776577058226176,\n",
       " 'YYX': 0.7711590827849191,\n",
       " 'YYY': 0.17476719070191038}"
      ]
     },
     "execution_count": 143,
     "metadata": {},
     "output_type": "execute_result"
    }
   ],
   "source": [
    "def gen_random_pauli_dict(m):\n",
    "    pauli_dict = dict()\n",
    "    cp = ['I']*m\n",
    "    coords = ([0]*m,[0]*m)\n",
    "    pauli_dict[\"\".join(cp)] = np.random.random()\n",
    "    for i in range(4 ** m):\n",
    "        coords = increment_coords(coords,m - 1)\n",
    "        cp = increment_string(cp,m - 1)\n",
    "        pauli_dict[\"\".join(cp)] = np.random.random()\n",
    "    return pauli_dict\n",
    "\n",
    "decomp = gen_random_pauli_dict(m)\n",
    "decomp"
   ]
  },
  {
   "cell_type": "markdown",
   "id": "f85b1ede",
   "metadata": {},
   "source": [
    "Use the input_pauli_decomps() function to input this into the Hamiltonian. Then, the calc_coefficients() function calculates all the coefficients of the families, and returns the set of families for convenience. Now, when we read the properties of the family, the coefficients are calculated:"
   ]
  },
  {
   "cell_type": "code",
   "execution_count": 144,
   "id": "56e54597",
   "metadata": {},
   "outputs": [
    {
     "name": "stdout",
     "output_type": "stream",
     "text": [
      "Qubits: 3\n",
      "Permutation:[3, 5, 6, 2, 1, 7, 4]\n",
      "Coefficients: [3.892946114543429, -0.6122539020931762, -0.03210522960751827, -1.043895398504699, -1.296481117743424, 0.47656897018308897, -0.036607543303878276, -0.7395970104923563]\n",
      "Generating Matrix:\n",
      "[0, 1, 1]\n",
      "[1, 0, 1]\n",
      "[0, 1, 0]\n",
      "['IXY', 'XZX', 'XYZ', 'ZXI', 'ZIY', 'YYX', 'YZZ']\n"
     ]
    }
   ],
   "source": [
    "PO.input_pauli_decomps(decomp)\n",
    "f = PO.calc_coefficients()\n",
    "fam1 = f[0]\n",
    "print(fam1.properties())\n",
    "print(fam1.to_string())"
   ]
  },
  {
   "cell_type": "markdown",
   "id": "f8ce52ca",
   "metadata": {},
   "source": [
    "Now lets make a sample measurement. Variational forms are not my strong area, so I made a sample fake variational form with random coefficients here:"
   ]
  },
  {
   "cell_type": "code",
   "execution_count": 145,
   "id": "d7230ce2",
   "metadata": {},
   "outputs": [],
   "source": [
    "def random_v_form(qc):\n",
    "    rvs = []\n",
    "    for i in range(3*m):\n",
    "        rvs = rvs + [np.random.random()*2*pi]\n",
    "    for i in range(m):\n",
    "        qc.u(rvs[i],rvs[i+1],rvs[i+2],i)"
   ]
  },
  {
   "cell_type": "markdown",
   "id": "1fd879d3",
   "metadata": {},
   "source": [
    "The family object has a method apply_to_circuit() which automatically applies the correct unitary to the circuit. We will create a circuit which has a variational form, a unitary matrix, and a measurement at the end."
   ]
  },
  {
   "cell_type": "code",
   "execution_count": 146,
   "id": "7e7d3ebf",
   "metadata": {},
   "outputs": [
    {
     "data": {
      "image/png": "[encoded data removed]",
      "text/plain": [
       "<Figure size 1207.22x367.889 with 1 Axes>"
      ]
     },
     "execution_count": 146,
     "metadata": {},
     "output_type": "execute_result"
    }
   ],
   "source": [
    "qc = qiskit.QuantumCircuit(m,m)\n",
    "\n",
    "random_v_form(qc)\n",
    "fam1.apply_to_circuit(qc)\n",
    "#qc.barrier(range(m))\n",
    "qc.measure(range(m), range(m))\n",
    "\n",
    "qc.draw('mpl')"
   ]
  },
  {
   "cell_type": "markdown",
   "id": "1ed0ead0",
   "metadata": {},
   "source": [
    "This code is straight from here: https://qiskit.org/documentation/tutorials/circuits/1_getting_started_with_qiskit.html. qiskit has methods to visualize the results."
   ]
  },
  {
   "cell_type": "code",
   "execution_count": 147,
   "id": "bfeecfd9",
   "metadata": {},
   "outputs": [],
   "source": [
    "# Use Aer's qasm_simulator\n",
    "backend_sim = Aer.get_backend('qasm_simulator')\n",
    "\n",
    "# Execute the circuit on the qasm simulator.\n",
    "# We've set the number of repeats of the circuit\n",
    "# to be 1024, which is the default.\n",
    "job_sim = backend_sim.run(transpile(qc, backend_sim), shots=1024)\n",
    "\n",
    "# Grab the results from the job.\n",
    "result_sim = job_sim.result()"
   ]
  },
  {
   "cell_type": "code",
   "execution_count": 148,
   "id": "6e461acd",
   "metadata": {},
   "outputs": [
    {
     "name": "stdout",
     "output_type": "stream",
     "text": [
      "{'001': 184, '010': 243, '000': 341, '011': 156, '111': 15, '110': 32, '100': 33, '101': 20}\n"
     ]
    },
    {
     "data": {
      "image/png": "[encoded data removed]",
      "text/plain": [
       "<Figure size 700x500 with 1 Axes>"
      ]
     },
     "execution_count": 148,
     "metadata": {},
     "output_type": "execute_result"
    }
   ],
   "source": [
    "counts = result_sim.get_counts(qc)\n",
    "print(counts)\n",
    "qiskit.visualization.plot_histogram(counts)"
   ]
  },
  {
   "cell_type": "markdown",
   "id": "2b6999da",
   "metadata": {},
   "source": [
    "Now that we have this result, we can use the counts of each result to get the probability of getting that result:\n",
    "\n",
    "$$\n",
    "P(010) = |\\langle \\psi | U | 010 \\rangle |^2\n",
    "$$\n",
    "\n",
    "So we can just multiply these by the corresponding coefficients. The coefficients are in ascending binary order. The measurement for this family is calculated below:"
   ]
  },
  {
   "cell_type": "code",
   "execution_count": 149,
   "id": "24f5519a",
   "metadata": {},
   "outputs": [
    {
     "name": "stdout",
     "output_type": "stream",
     "text": [
      "0.975266367273266\n"
     ]
    }
   ],
   "source": [
    "cfs = fam1.get_coefficients()\n",
    "measurement = 0\n",
    "\n",
    "for i in range(2**m):\n",
    "    bi = bin(i)[2:]\n",
    "    while(len(bi)<m):\n",
    "        bi = '0' + bi\n",
    "    if(bi in counts):\n",
    "        measurement = measurement + counts[bi]*cfs[i]/1024\n",
    "\n",
    "print(measurement)"
   ]
  },
  {
   "cell_type": "markdown",
   "id": "ae05b80e",
   "metadata": {},
   "source": [
    "Now this is repeated for each family and all of the results are added together"
   ]
  }
 ],
 "metadata": {
  "kernelspec": {
   "display_name": "Python 3 (ipykernel)",
   "language": "python",
   "name": "python3"
  },
  "language_info": {
   "codemirror_mode": {
    "name": "ipython",
    "version": 3
   },
   "file_extension": ".py",
   "mimetype": "text/x-python",
   "name": "python",
   "nbconvert_exporter": "python",
   "pygments_lexer": "ipython3",
   "version": "3.10.4"
  }
 },
 "nbformat": 4,
 "nbformat_minor": 5
}
